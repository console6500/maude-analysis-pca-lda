{
 "cells": [
  {
   "cell_type": "code",
   "execution_count": 1,
   "id": "f71d4b4b-d1a0-403a-a61e-048ac4bef4ca",
   "metadata": {
    "tags": []
   },
   "outputs": [],
   "source": [
    "! pip install --quiet --upgrade contractions"
   ]
  },
  {
   "cell_type": "code",
   "execution_count": 2,
   "id": "d74a75c3-1631-430b-ad99-c27a32ac51cc",
   "metadata": {
    "tags": []
   },
   "outputs": [],
   "source": [
    "! pip install --quiet --upgrade nltk"
   ]
  },
  {
   "cell_type": "code",
   "execution_count": 3,
   "id": "8d7daeb1-b8ae-4489-b53f-24e15eec4e97",
   "metadata": {
    "tags": []
   },
   "outputs": [
    {
     "name": "stdout",
     "output_type": "stream",
     "text": [
      "<frozen runpy>:128: RuntimeWarning: 'nltk.downloader' found in sys.modules after import of package 'nltk', but prior to execution of 'nltk.downloader'; this may result in unpredictable behaviour\n"
     ]
    }
   ],
   "source": [
    "! python -m nltk.downloader --quiet 'all'\n",
    "#nltk.download('all-corpora')\n",
    "#nltk.download('all-nltk')\n",
    "#nltk.download('book')\n",
    "#nltk.download('popular')\n",
    "#nltk.download('tests')\n",
    "#nltk.download('third-party')"
   ]
  }
 ],
 "metadata": {
  "kernelspec": {
   "display_name": "third-party-analysis",
   "language": "python",
   "name": "python3"
  },
  "language_info": {
   "codemirror_mode": {
    "name": "ipython",
    "version": 3
   },
   "file_extension": ".py",
   "mimetype": "text/x-python",
   "name": "python",
   "nbconvert_exporter": "python",
   "pygments_lexer": "ipython3",
   "version": "3.11.2"
  }
 },
 "nbformat": 4,
 "nbformat_minor": 5
}
